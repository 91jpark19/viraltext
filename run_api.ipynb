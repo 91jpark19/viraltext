{
 "cells": [
  {
   "cell_type": "code",
   "execution_count": 1,
   "id": "26681d2e-779f-4d38-8850-68d8c8132759",
   "metadata": {},
   "outputs": [],
   "source": [
    "import requests\n",
    "from datetime import timedelta\n",
    "from datetime import datetime\n",
    "import pandas as pd\n",
    "import urllib.request\n",
    "import json"
   ]
  },
  {
   "cell_type": "code",
   "execution_count": 2,
   "id": "a3291582-2256-4b54-9bf4-56d99a0fe63e",
   "metadata": {},
   "outputs": [],
   "source": [
    "def chronicling(arg1, arg2, arg3, arg4):\n",
    "    '''\n",
    "    arg1=\"sn84024738\"\n",
    "    arg2=YYYY-MM-DD\n",
    "    arg3=YYYY-MM-DD\n",
    "    arg4=\"dispatch\"\n",
    "    '''\n",
    "    daterange=pd.date_range(arg2, arg3)\n",
    "    for day in daterange:\n",
    "        try:\n",
    "            r=requests.get('https://chroniclingamerica.loc.gov/lccn/'+arg1+'/'+day.strftime('%Y-%m-%d') + '/' + 'ed-1.json')\n",
    "            for i in r.json()['pages']:\n",
    "                with open('/Users/2010y/chronicling_america/data/' + arg4 + '/' + day.strftime('%Y-%m-%d')+ '-' + i['url'][-10:].rstrip('.json') +  '.txt', 'w+') as text:\n",
    "                    with urllib.request.urlopen(i['url'].rstrip('.json')+'/ocr.txt') as f:\n",
    "                        text.write(f.read().decode('utf-8'))\n",
    "                # print(day.strftime('%Y-%m-%d'))\n",
    "        except:\n",
    "            continue\n",
    "            # print(day.strftime('%Y-%m-%d')+' does not exist')"
   ]
  },
  {
   "cell_type": "code",
   "execution_count": null,
   "id": "007e580b-9d57-4446-8df4-a7bf232b5ce1",
   "metadata": {},
   "outputs": [],
   "source": [
    "%%timeit\n",
    "chronicling('sn93067997', '1850-01-01', '1865-09-10', 'camden_journal')"
   ]
  }
 ],
 "metadata": {
  "kernelspec": {
   "display_name": "Python 3 (ipykernel)",
   "language": "python",
   "name": "python3"
  },
  "language_info": {
   "codemirror_mode": {
    "name": "ipython",
    "version": 3
   },
   "file_extension": ".py",
   "mimetype": "text/x-python",
   "name": "python",
   "nbconvert_exporter": "python",
   "pygments_lexer": "ipython3",
   "version": "3.10.4"
  }
 },
 "nbformat": 4,
 "nbformat_minor": 5
}
