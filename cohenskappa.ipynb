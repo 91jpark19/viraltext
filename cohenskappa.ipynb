{
 "cells": [
  {
   "cell_type": "code",
   "execution_count": 1,
   "id": "8a84d78f-c717-4e64-acfb-01d25af265be",
   "metadata": {},
   "outputs": [],
   "source": [
    "import pandas as pd\n",
    "from sklearn.metrics import cohen_kappa_score\n",
    "from IPython.display import Image\n",
    "from IPython.core.display import HTML "
   ]
  },
  {
   "cell_type": "code",
   "execution_count": 2,
   "id": "2a15730e-192f-456e-986e-52746cb09c45",
   "metadata": {},
   "outputs": [],
   "source": [
    "def cal_kappa(df:pd.DataFrame()):\n",
    "    jay=df[~df['jay'].isnull()]['jay'].to_list()\n",
    "    matthew=df[~df['matthew'].isnull()]['matthew'].to_list()\n",
    "    return cohen_kappa_score(jay, matthew)"
   ]
  },
  {
   "cell_type": "code",
   "execution_count": 10,
   "id": "4b6eb5f2-bef6-46f0-80ea-39180709e5d4",
   "metadata": {},
   "outputs": [],
   "source": [
    "abbeville_slave=pd.read_csv('two_levenstein_abbeville_banner_slave.csv')\n",
    "abbeville_servant=pd.read_csv('two_levenstein_abbeville_banner_servant.csv')\n",
    "athens_negro=pd.read_csv('two_levenstein_athens_post_negro.csv')\n",
    "athens_slave=pd.read_csv('two_levenstein_athens_post_slave.csv')\n",
    "athens_servant=pd.read_csv('two_levenstein_athens_post_servant.csv')"
   ]
  },
  {
   "cell_type": "markdown",
   "id": "acc80901-aad4-42c4-86e9-9a32067ef5ea",
   "metadata": {},
   "source": [
    "https://stackoverflow.com/questions/11528150/inter-rater-agreement-in-python-cohens-kappa"
   ]
  },
  {
   "cell_type": "code",
   "execution_count": 9,
   "id": "48b0dcea-9031-4e92-b183-79740d033374",
   "metadata": {},
   "outputs": [
    {
     "data": {
      "text/html": [
       "<img src=\"https://i.stack.imgur.com/kYNd6.png\"/>"
      ],
      "text/plain": [
       "<IPython.core.display.Image object>"
      ]
     },
     "execution_count": 9,
     "metadata": {},
     "output_type": "execute_result"
    }
   ],
   "source": [
    "Image(url= \"https://i.stack.imgur.com/kYNd6.png\")"
   ]
  },
  {
   "cell_type": "code",
   "execution_count": 4,
   "id": "8dbe7d16-db66-4ac7-84e2-435068cde057",
   "metadata": {},
   "outputs": [
    {
     "data": {
      "text/plain": [
       "0.5791923512391496"
      ]
     },
     "execution_count": 4,
     "metadata": {},
     "output_type": "execute_result"
    }
   ],
   "source": [
    "cal_kappa(abbeville_slave)"
   ]
  },
  {
   "cell_type": "code",
   "execution_count": 5,
   "id": "12312795-3143-4140-a264-2df6290ee319",
   "metadata": {},
   "outputs": [
    {
     "data": {
      "text/plain": [
       "0.4940239043824701"
      ]
     },
     "execution_count": 5,
     "metadata": {},
     "output_type": "execute_result"
    }
   ],
   "source": [
    "cal_kappa(abbeville_servant)"
   ]
  },
  {
   "cell_type": "code",
   "execution_count": 6,
   "id": "09f15e3d-55bb-4ab0-a8a0-471a2dc2829e",
   "metadata": {
    "tags": []
   },
   "outputs": [
    {
     "data": {
      "text/plain": [
       "0.9220287660862982"
      ]
     },
     "execution_count": 6,
     "metadata": {},
     "output_type": "execute_result"
    }
   ],
   "source": [
    "cal_kappa(athens_negro)"
   ]
  },
  {
   "cell_type": "code",
   "execution_count": 8,
   "id": "73e52dad-4fef-4b6d-a3e9-36b423ffcb67",
   "metadata": {},
   "outputs": [
    {
     "data": {
      "text/plain": [
       "0.7338310695331474"
      ]
     },
     "execution_count": 8,
     "metadata": {},
     "output_type": "execute_result"
    }
   ],
   "source": [
    "cal_kappa(athens_slave)"
   ]
  },
  {
   "cell_type": "code",
   "execution_count": 11,
   "id": "87a47fce-6e9e-4fc2-8b6e-eb7eadd0e710",
   "metadata": {},
   "outputs": [
    {
     "data": {
      "text/plain": [
       "0.3904382470119522"
      ]
     },
     "execution_count": 11,
     "metadata": {},
     "output_type": "execute_result"
    }
   ],
   "source": [
    "cal_kappa(athens_servant)"
   ]
  }
 ],
 "metadata": {
  "kernelspec": {
   "display_name": "Python 3 (ipykernel)",
   "language": "python",
   "name": "python3"
  },
  "language_info": {
   "codemirror_mode": {
    "name": "ipython",
    "version": 3
   },
   "file_extension": ".py",
   "mimetype": "text/x-python",
   "name": "python",
   "nbconvert_exporter": "python",
   "pygments_lexer": "ipython3",
   "version": "3.10.4"
  }
 },
 "nbformat": 4,
 "nbformat_minor": 5
}
