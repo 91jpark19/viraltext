{
 "cells": [
  {
   "cell_type": "code",
   "execution_count": 3,
   "id": "0857b580-5e57-469d-8708-3a1ca1256d84",
   "metadata": {},
   "outputs": [
    {
     "name": "stderr",
     "output_type": "stream",
     "text": [
      "[nltk_data] Downloading package punkt to /Users/2010y/nltk_data...\n",
      "[nltk_data]   Unzipping tokenizers/punkt.zip.\n",
      "[nltk_data] Downloading package stopwords to /Users/2010y/nltk_data...\n",
      "[nltk_data]   Unzipping corpora/stopwords.zip.\n"
     ]
    }
   ],
   "source": [
    "import pandas as pd\n",
    "import gensim.models\n",
    "from nltk.tokenize import word_tokenize\n",
    "import nltk\n",
    "nltk.download('punkt')\n",
    "nltk.download('stopwords')\n",
    "from nltk.corpus import stopwords\n",
    "stop=stopwords.words('english')"
   ]
  },
  {
   "cell_type": "code",
   "execution_count": 8,
   "id": "7f530333-5bd1-4fbc-a36a-85afd56ba44c",
   "metadata": {},
   "outputs": [],
   "source": [
    "import spacy\n",
    "nlp=spacy.load('en_core_web_sm')"
   ]
  },
  {
   "cell_type": "code",
   "execution_count": 5,
   "id": "cf18dd14-1245-4d03-ac87-9251a8edc187",
   "metadata": {},
   "outputs": [],
   "source": [
    "df_negro=pd.read_csv('levenstein_anti_slavery_bugle_window1_negro.csv')\n",
    "df_slave=pd.read_csv('levenstein_anti_slavery_bugle_window1_slave.csv')\n",
    "df_servant=pd.read_csv('levenstein_anti_slavery_bugle_window1_servant.csv')"
   ]
  },
  {
   "cell_type": "code",
   "execution_count": 6,
   "id": "9769a993-4139-4641-906b-0c967a087bb5",
   "metadata": {},
   "outputs": [],
   "source": [
    "frame=[df_slave, df_servant]"
   ]
  },
  {
   "cell_type": "markdown",
   "id": "764d1a86-f4c4-4850-9281-2d4d9538bbef",
   "metadata": {},
   "source": [
    "pre-processing"
   ]
  },
  {
   "cell_type": "code",
   "execution_count": 15,
   "id": "0473af5d-4174-4205-93ba-f671ebeb8994",
   "metadata": {},
   "outputs": [],
   "source": [
    "df=pd.concat(frame)"
   ]
  },
  {
   "cell_type": "code",
   "execution_count": 9,
   "id": "c103ce75-9909-4e63-be07-a1498648cfd5",
   "metadata": {},
   "outputs": [],
   "source": [
    "def lemmatization(dataframe:pd.DataFrame()):\n",
    "    dataframe['stopword']=dataframe['context'].apply(lambda x:' '.join([word for word in x.split() if word not in (stop)]))\n",
    "    dataframe['punct']=dataframe['stopword'].str.replace('[^\\w\\s]', '')\n",
    "    dataframe['lower']=dataframe['punct'].str.lower()\n",
    "    dataframe['lemma']=dataframe['lower'].apply(lambda row:' '.join([w.lemma_ for w in nlp(row)]))\n",
    "    dataframe['token']=dataframe['lemma'].apply(word_tokenize)\n",
    "    return dataframe"
   ]
  },
  {
   "cell_type": "code",
   "execution_count": null,
   "id": "bfb16f6b-9af5-4c72-8fb1-8c0061516b03",
   "metadata": {},
   "outputs": [
    {
     "name": "stderr",
     "output_type": "stream",
     "text": [
      "/var/folders/bs/0dqdld413qjd4wfpkl2zqd3w0000gn/T/ipykernel_2738/2545040651.py:3: FutureWarning: The default value of regex will change from True to False in a future version.\n",
      "  dataframe['punct']=dataframe['stopword'].str.replace('[^\\w\\s]', '')\n",
      "/var/folders/bs/0dqdld413qjd4wfpkl2zqd3w0000gn/T/ipykernel_2738/2545040651.py:3: FutureWarning: The default value of regex will change from True to False in a future version.\n",
      "  dataframe['punct']=dataframe['stopword'].str.replace('[^\\w\\s]', '')\n"
     ]
    }
   ],
   "source": [
    "%%timeit\n",
    "df_lemma=lemmatization(df)"
   ]
  }
 ],
 "metadata": {
  "kernelspec": {
   "display_name": "Python 3 (ipykernel)",
   "language": "python",
   "name": "python3"
  },
  "language_info": {
   "codemirror_mode": {
    "name": "ipython",
    "version": 3
   },
   "file_extension": ".py",
   "mimetype": "text/x-python",
   "name": "python",
   "nbconvert_exporter": "python",
   "pygments_lexer": "ipython3",
   "version": "3.10.4"
  }
 },
 "nbformat": 4,
 "nbformat_minor": 5
}
