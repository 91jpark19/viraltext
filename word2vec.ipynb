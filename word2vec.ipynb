{
 "cells": [
  {
   "cell_type": "code",
   "execution_count": 1,
   "id": "7ba8a731-5026-4085-89a7-699e34538565",
   "metadata": {},
   "outputs": [
    {
     "name": "stderr",
     "output_type": "stream",
     "text": [
      "[nltk_data] Downloading package punkt to /Users/2010y/nltk_data...\n",
      "[nltk_data]   Package punkt is already up-to-date!\n",
      "[nltk_data] Downloading package stopwords to /Users/2010y/nltk_data...\n",
      "[nltk_data]   Package stopwords is already up-to-date!\n"
     ]
    }
   ],
   "source": [
    "import pandas as pd\n",
    "import gensim.models\n",
    "from nltk.tokenize import word_tokenize\n",
    "import nltk\n",
    "nltk.download('punkt')\n",
    "nltk.download('stopwords')\n",
    "from nltk.corpus import stopwords\n",
    "stop=stopwords.words('english')"
   ]
  },
  {
   "cell_type": "code",
   "execution_count": 2,
   "id": "c860f5e3-89f8-4d57-86c0-86af62040ebe",
   "metadata": {},
   "outputs": [],
   "source": [
    "folder='nashville_union_american'"
   ]
  },
  {
   "cell_type": "code",
   "execution_count": 3,
   "id": "7673fec8-ddc3-45ad-8af1-d75bb0a03715",
   "metadata": {},
   "outputs": [
    {
     "name": "stderr",
     "output_type": "stream",
     "text": [
      "/Users/2010y/opt/miniconda3/envs/viraltext/lib/python3.10/site-packages/tqdm/auto.py:22: TqdmWarning: IProgress not found. Please update jupyter and ipywidgets. See https://ipywidgets.readthedocs.io/en/stable/user_install.html\n",
      "  from .autonotebook import tqdm as notebook_tqdm\n"
     ]
    }
   ],
   "source": [
    "import spacy\n",
    "nlp=spacy.load('en_core_web_sm')"
   ]
  },
  {
   "cell_type": "code",
   "execution_count": 4,
   "id": "b88c62db-2e42-4170-804f-8a00c00af3c0",
   "metadata": {},
   "outputs": [],
   "source": [
    "import os\n",
    "os.chdir('/Users/2010y/opt/viraltext/snippet-fasttext')"
   ]
  },
  {
   "cell_type": "code",
   "execution_count": 6,
   "id": "4ff0a242-46e5-4635-8666-70ca9791c6b3",
   "metadata": {
    "tags": []
   },
   "outputs": [],
   "source": [
    "# df_negro=pd.read_csv('two_extended_anti_slavery_bugle_negro.csv')\n",
    "df_slave=pd.read_csv('two_extended_'+folder+'_slave'+'.csv')\n",
    "df_servant=pd.read_csv('two_extended_'+folder+'_servant'+'.csv')"
   ]
  },
  {
   "cell_type": "code",
   "execution_count": 7,
   "id": "7eb400eb-cbd2-4aa6-a07c-a95641228c50",
   "metadata": {},
   "outputs": [],
   "source": [
    "frame=[df_slave, df_servant]"
   ]
  },
  {
   "cell_type": "markdown",
   "id": "2e8c3f42-b6be-494e-9d11-ef81377695d8",
   "metadata": {},
   "source": [
    "pre-processing"
   ]
  },
  {
   "cell_type": "code",
   "execution_count": 8,
   "id": "22b25436-875f-4668-b30b-4db2ba1606b4",
   "metadata": {},
   "outputs": [],
   "source": [
    "df=pd.concat(frame)"
   ]
  },
  {
   "cell_type": "code",
   "execution_count": 9,
   "id": "076b4b5c-c177-4408-912c-019daa3a8023",
   "metadata": {},
   "outputs": [],
   "source": [
    "def lemmatization(dataframe:pd.DataFrame()):\n",
    "    dataframe['stopword']=dataframe['context'].apply(lambda x:' '.join([word for word in x.split() if word not in (stop)]))\n",
    "    dataframe['punct']=dataframe['stopword'].str.replace('[^\\w\\s]', '')\n",
    "    dataframe['lower']=dataframe['punct'].str.lower()\n",
    "    dataframe['lemma']=dataframe['lower'].apply(lambda row:' '.join([w.lemma_ for w in nlp(row)]))\n",
    "    dataframe['token']=dataframe['lemma'].apply(word_tokenize)\n",
    "    return dataframe"
   ]
  },
  {
   "cell_type": "code",
   "execution_count": 10,
   "id": "aa5761c1-3a0d-476b-8e0f-c4663ea2d5e0",
   "metadata": {},
   "outputs": [
    {
     "name": "stderr",
     "output_type": "stream",
     "text": [
      "/var/folders/bs/0dqdld413qjd4wfpkl2zqd3w0000gn/T/ipykernel_18220/2545040651.py:3: FutureWarning: The default value of regex will change from True to False in a future version.\n",
      "  dataframe['punct']=dataframe['stopword'].str.replace('[^\\w\\s]', '')\n"
     ]
    },
    {
     "name": "stdout",
     "output_type": "stream",
     "text": [
      "CPU times: user 4min 10s, sys: 604 ms, total: 4min 10s\n",
      "Wall time: 4min 10s\n"
     ]
    }
   ],
   "source": [
    "%%time\n",
    "df=lemmatization(df)"
   ]
  },
  {
   "cell_type": "markdown",
   "id": "94f08b86-3be1-4bcc-ba1f-8cd673be4df7",
   "metadata": {},
   "source": [
    "word2vec"
   ]
  },
  {
   "cell_type": "code",
   "execution_count": 189,
   "id": "31fb6534-660f-4c10-8ee2-cd6a58adaa71",
   "metadata": {},
   "outputs": [],
   "source": [
    "from gensim.models.word2vec import Word2Vec"
   ]
  },
  {
   "cell_type": "code",
   "execution_count": 190,
   "id": "9d9bd903-6e85-4351-aa15-687b6495053a",
   "metadata": {},
   "outputs": [],
   "source": [
    "model=Word2Vec([row for row in df['token']], min_count=10, workers=3, window=5, sg=1)"
   ]
  },
  {
   "cell_type": "code",
   "execution_count": 191,
   "id": "76121e1f-c60a-48bf-955d-7d77c98a2827",
   "metadata": {},
   "outputs": [],
   "source": [
    "from gensim.models import KeyedVectors\n",
    "servant_slave=model.wv.most_similar(positive=['servant'], negative=['slave'], topn=100)\n",
    "slave_servant=model.wv.most_similar(positive=['slave'], negative=['servant'], topn=100)"
   ]
  },
  {
   "cell_type": "code",
   "execution_count": 192,
   "id": "ed869c89-983c-4219-8a38-a0c46e0c9152",
   "metadata": {},
   "outputs": [],
   "source": [
    "dataframe=pd.DataFrame(slave_servant, columns=('token', 'similarity'))\n",
    "outname='slave_servant_'+folder+'_min10.csv'\n",
    "outdir='/Users/2010y/opt/viraltext/word2vec'\n",
    "if not os.path.exists(outdir):\n",
    "    os.mkdir(outdir)\n",
    "fullname=os.path.join(outdir, outname)\n",
    "dataframe.to_csv(fullname)"
   ]
  },
  {
   "cell_type": "code",
   "execution_count": 193,
   "id": "f386c893-9c56-4c4a-959c-d554e8dce0c2",
   "metadata": {},
   "outputs": [],
   "source": [
    "dataframe=pd.DataFrame(servant_slave, columns=('token', 'similarity'))\n",
    "outname='servant_slave_'+folder+'_min10.csv'\n",
    "outdir='/Users/2010y/opt/viraltext/word2vec'\n",
    "if not os.path.exists(outdir):\n",
    "    os.mkdir(outdir)\n",
    "fullname=os.path.join(outdir, outname)\n",
    "dataframe.to_csv(fullname)"
   ]
  }
 ],
 "metadata": {
  "kernelspec": {
   "display_name": "Python 3 (ipykernel)",
   "language": "python",
   "name": "python3"
  },
  "language_info": {
   "codemirror_mode": {
    "name": "ipython",
    "version": 3
   },
   "file_extension": ".py",
   "mimetype": "text/x-python",
   "name": "python",
   "nbconvert_exporter": "python",
   "pygments_lexer": "ipython3",
   "version": "3.10.6"
  }
 },
 "nbformat": 4,
 "nbformat_minor": 5
}
