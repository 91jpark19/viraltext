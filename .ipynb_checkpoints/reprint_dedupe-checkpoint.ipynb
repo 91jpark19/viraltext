{
 "cells": [
  {
   "cell_type": "code",
   "execution_count": 1,
   "id": "e4771c15-923f-471c-bafb-d523e80f21d3",
   "metadata": {},
   "outputs": [],
   "source": [
    "import os\n",
    "from nltk.tokenize import word_tokenize\n",
    "import pandas as pd\n",
    "import nltk\n",
    "#nltk.download('punkt')\n",
    "#nltk.download('stopwords')\n",
    "from nltk.corpus import stopwords\n",
    "stop=stopwords.words('english')\n",
    "import spacy\n",
    "nlp=spacy.load('en_core_web_sm')\n",
    "from tqdm import tqdm"
   ]
  },
  {
   "cell_type": "code",
   "execution_count": 18,
   "id": "24424801-7bdf-4394-82ca-3c8620affb84",
   "metadata": {
    "tags": []
   },
   "outputs": [
    {
     "data": {
      "text/plain": [
       "'/Users/mstudio/repository/viraltext/reuse'"
      ]
     },
     "execution_count": 18,
     "metadata": {},
     "output_type": "execute_result"
    }
   ],
   "source": [
    "os.getcwd()"
   ]
  },
  {
   "cell_type": "code",
   "execution_count": 25,
   "id": "533bc99d-7fab-466f-b910-8452c344e3e4",
   "metadata": {},
   "outputs": [
    {
     "name": "stdout",
     "output_type": "stream",
     "text": [
      "reuse_green_mountain_freeman_servant.csv\n"
     ]
    }
   ],
   "source": [
    "for i in os.listdir():\n",
    "    print(i)\n",
    "    break"
   ]
  },
  {
   "cell_type": "code",
   "execution_count": 42,
   "id": "4b46a585-d5a1-4f3d-a38a-4630721ad8d2",
   "metadata": {},
   "outputs": [
    {
     "name": "stdout",
     "output_type": "stream",
     "text": [
      "CPU times: user 1.24 s, sys: 102 ms, total: 1.35 s\n",
      "Wall time: 1.35 s\n"
     ]
    }
   ],
   "source": [
    "%%time\n",
    "for i in os.listdir():\n",
    "    if i.endswith('.csv'):\n",
    "        newspaper='two_extended_'+i.rstrip('.csv').lstrip('reuse_')+'.csv'\n",
    "        # print(newspaper)\n",
    "        reuse=pd.read_csv(i)\n",
    "        dupepair=reuse['pair_index2']\n",
    "        # print(dupepair)\n",
    "        if newspaper in os.listdir('../snippet-fasttext'):\n",
    "            original=pd.read_csv('../snippet-fasttext/'+newspaper)\n",
    "            dedupe=original[~original.index.isin(dupepair)]\n",
    "            dedupe.to_csv('../snippet-dedupe/'+'dedupe_'+newspaper)"
   ]
  }
 ],
 "metadata": {
  "kernelspec": {
   "display_name": "Python 3 (ipykernel)",
   "language": "python",
   "name": "python3"
  },
  "language_info": {
   "codemirror_mode": {
    "name": "ipython",
    "version": 3
   },
   "file_extension": ".py",
   "mimetype": "text/x-python",
   "name": "python",
   "nbconvert_exporter": "python",
   "pygments_lexer": "ipython3",
   "version": "3.10.6"
  }
 },
 "nbformat": 4,
 "nbformat_minor": 5
}
