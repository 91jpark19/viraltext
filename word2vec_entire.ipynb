{
 "cells": [
  {
   "cell_type": "code",
   "execution_count": 15,
   "id": "fc9ef9e2",
   "metadata": {},
   "outputs": [],
   "source": [
    "import pandas as pd\n",
    "import gensim.models\n",
    "from nltk.tokenize import word_tokenize\n",
    "import nltk\n",
    "#nltk.download('punkt')\n",
    "#nltk.download('stopwords')\n",
    "from nltk.corpus import stopwords\n",
    "stop=stopwords.words('english')\n",
    "from tqdm import tqdm"
   ]
  },
  {
   "cell_type": "code",
   "execution_count": 3,
   "id": "86d8cc48",
   "metadata": {},
   "outputs": [],
   "source": [
    "import spacy\n",
    "nlp=spacy.load('en_core_web_sm')"
   ]
  },
  {
   "cell_type": "code",
   "execution_count": 4,
   "id": "e3427f7d",
   "metadata": {},
   "outputs": [
    {
     "data": {
      "text/plain": [
       "'/Users/mstudio/repository/viraltext'"
      ]
     },
     "execution_count": 4,
     "metadata": {},
     "output_type": "execute_result"
    }
   ],
   "source": [
    "import os\n",
    "os.getcwd()"
   ]
  },
  {
   "cell_type": "code",
   "execution_count": 5,
   "id": "976e8bb7",
   "metadata": {},
   "outputs": [],
   "source": [
    "import os\n",
    "os.chdir('snippet-dedupe')"
   ]
  },
  {
   "cell_type": "code",
   "execution_count": 6,
   "id": "39de1f11",
   "metadata": {},
   "outputs": [
    {
     "data": {
      "text/plain": [
       "['dedupe_two_extended_cass_county_republican_slave.csv',\n",
       " 'dedupe_two_extended_edgefield_slave.csv',\n",
       " 'dedupe_two_extended_anti_slavery_bugle_servant.csv',\n",
       " 'dedupe_two_extended_abbeville_banner_servant.csv',\n",
       " 'dedupe_two_extended_edgefield_servant.csv',\n",
       " 'dedupe_two_extended_keowee_courier_servant.csv',\n",
       " 'dedupe_two_extended_nashville_union_american_slave.csv',\n",
       " 'dedupe_two_extended_national_era_slave.csv',\n",
       " 'dedupe_two_extended_fayetteville_observer_servant.csv',\n",
       " 'dedupe_two_extended_daily_dispatch_slave.csv',\n",
       " 'dedupe_two_extended_texas_republican_servant.csv',\n",
       " 'dedupe_two_extended_daily_dispatch_servant.csv',\n",
       " 'dedupe_two_extended_green_mountain_freeman_servant.csv',\n",
       " 'dedupe_two_extended_fayetteville_observer_slave.csv',\n",
       " 'dedupe_two_extended_athens_post_slave.csv',\n",
       " 'dedupe_two_extended_marshall_county_republican_slave.csv',\n",
       " 'dedupe_two_extended_keowee_courier_slave.csv',\n",
       " 'dedupe_two_extended_marshall_county_republican_servant.csv',\n",
       " 'dedupe_two_extended_vermont_watchman_state_journal_servant.csv',\n",
       " '.ipynb_checkpoints',\n",
       " 'dedupe_two_extended_texas_republican_slave.csv',\n",
       " 'dedupe_two_extended_national_era_servant.csv',\n",
       " 'dedupe_two_extended_nashville_union_american_servant.csv',\n",
       " 'dedupe_two_extended_anti_slavery_bugle_slave.csv',\n",
       " 'dedupe_two_extended_abbeville_banner_slave.csv',\n",
       " 'dedupe_two_extended_athens_post_servant.csv',\n",
       " 'dedupe_two_extended_vermont_watchman_state_journal_slave.csv',\n",
       " 'dedupe_two_extended_green_mountain_freeman_slave.csv',\n",
       " 'dedupe_two_extended_cass_county_republican_servant.csv']"
      ]
     },
     "execution_count": 6,
     "metadata": {},
     "output_type": "execute_result"
    }
   ],
   "source": [
    "os.listdir()"
   ]
  },
  {
   "cell_type": "code",
   "execution_count": 7,
   "id": "58d68969",
   "metadata": {},
   "outputs": [],
   "source": [
    "south_slave=[pd.read_csv('dedupe_two_extended_abbeville_banner_slave.csv'),\n",
    "pd.read_csv('dedupe_two_extended_daily_dispatch_slave.csv'),\n",
    "pd.read_csv('dedupe_two_extended_nashville_union_american_slave.csv'),\n",
    "pd.read_csv('dedupe_two_extended_edgefield_slave.csv')\n",
    "]\n",
    "north_slave=[pd.read_csv('dedupe_two_extended_anti_slavery_bugle_slave.csv'),\n",
    "pd.read_csv('dedupe_two_extended_national_era_slave.csv'),\n",
    "pd.read_csv('dedupe_two_extended_marshall_county_republican_slave.csv'),\n",
    "pd.read_csv('dedupe_two_extended_green_mountain_freeman_slave.csv')\n",
    "]"
   ]
  },
  {
   "cell_type": "code",
   "execution_count": 8,
   "id": "d8c7d874",
   "metadata": {},
   "outputs": [],
   "source": [
    "south_slave=pd.concat(south_slave)\n",
    "north_slave=pd.concat(north_slave)"
   ]
  },
  {
   "cell_type": "code",
   "execution_count": 9,
   "id": "b4097b84",
   "metadata": {},
   "outputs": [],
   "source": [
    "south_slave['context']=south_slave['context'].str.replace('slave', 'wxyz')"
   ]
  },
  {
   "cell_type": "code",
   "execution_count": 10,
   "id": "7ad99304",
   "metadata": {},
   "outputs": [],
   "source": [
    "frame=[south_slave, north_slave]"
   ]
  },
  {
   "cell_type": "markdown",
   "id": "1d464e3d",
   "metadata": {},
   "source": [
    "pre-processing"
   ]
  },
  {
   "cell_type": "code",
   "execution_count": 11,
   "id": "7530f890",
   "metadata": {},
   "outputs": [],
   "source": [
    "df=pd.concat(frame)"
   ]
  },
  {
   "cell_type": "code",
   "execution_count": 12,
   "id": "b0515175",
   "metadata": {},
   "outputs": [
    {
     "data": {
      "text/plain": [
       "754256"
      ]
     },
     "execution_count": 12,
     "metadata": {},
     "output_type": "execute_result"
    }
   ],
   "source": [
    "df.size"
   ]
  },
  {
   "cell_type": "code",
   "execution_count": 13,
   "id": "1fdf49db",
   "metadata": {},
   "outputs": [],
   "source": [
    "df_dict=df.to_dict('records')"
   ]
  },
  {
   "cell_type": "code",
   "execution_count": 17,
   "id": "14c74e2c",
   "metadata": {},
   "outputs": [],
   "source": [
    "def lemmatization(dataframe:pd.DataFrame()):\n",
    "    dataframe['stopword']=dataframe['context'].apply(lambda x:' '.join([word for word in x.split() if word not in (stop)]))\n",
    "    dataframe['punct']=dataframe['stopword'].str.replace('[^\\w\\s]', '')\n",
    "    dataframe['lower']=dataframe['punct'].str.lower()\n",
    "    dataframe['lemma']=dataframe['lower'].apply(lambda row:' '.join([w.lemma_ for w in nlp(row)]))\n",
    "    dataframe['token']=dataframe['lemma'].apply(word_tokenize)\n",
    "    return dataframe"
   ]
  },
  {
   "cell_type": "code",
   "execution_count": 22,
   "id": "7c2960e9",
   "metadata": {},
   "outputs": [],
   "source": [
    "def remove_stop_words(sentence):\n",
    "    stopwords=stop\n",
    "    word_list=sentence.split()\n",
    "    clean_sentence=' '.join([word for word in word_list if word not in stopwords])\n",
    "    return clean_sentence"
   ]
  },
  {
   "cell_type": "code",
   "execution_count": 45,
   "id": "24ad706c",
   "metadata": {},
   "outputs": [
    {
     "name": "stderr",
     "output_type": "stream",
     "text": [
      "100%|██████████| 188564/188564 [30:15<00:00, 103.89it/s]"
     ]
    },
    {
     "name": "stdout",
     "output_type": "stream",
     "text": [
      "CPU times: user 30min 10s, sys: 8.03 s, total: 30min 18s\n",
      "Wall time: 30min 15s\n"
     ]
    },
    {
     "name": "stderr",
     "output_type": "stream",
     "text": [
      "\n"
     ]
    }
   ],
   "source": [
    "%%time\n",
    "stopword=[]\n",
    "punct=[]\n",
    "lower=[]\n",
    "lemma=[]\n",
    "token=[]\n",
    "for row in tqdm(df_dict):\n",
    "    word_list=row['context'].split()\n",
    "    clean_sentence=' '.join([word for word in word_list if word not in stop])\n",
    "    stopword.append(clean_sentence)\n",
    "    punct.append(clean_sentence.replace('[^\\w\\s]', ''))\n",
    "    lower.append(clean_sentence.lower())\n",
    "    lemma.append(' '.join([w.lemma_ for w in nlp(clean_sentence.lower())]))\n",
    "    token.append(word_tokenize(' '.join([w.lemma_ for w in nlp(clean_sentence.lower())])))"
   ]
  },
  {
   "cell_type": "code",
   "execution_count": 46,
   "id": "5d93b9fc",
   "metadata": {},
   "outputs": [],
   "source": [
    "df['stopword']=stopword\n",
    "df['punct']=punct\n",
    "df['lower']=lower\n",
    "df['lemma']=lemma\n",
    "df['token']=token"
   ]
  },
  {
   "cell_type": "markdown",
   "id": "2d417514",
   "metadata": {},
   "source": [
    "word2vec"
   ]
  },
  {
   "cell_type": "code",
   "execution_count": 47,
   "id": "8f282aec",
   "metadata": {},
   "outputs": [],
   "source": [
    "from gensim.models.word2vec import Word2Vec"
   ]
  },
  {
   "cell_type": "code",
   "execution_count": 48,
   "id": "9ee2beb9",
   "metadata": {},
   "outputs": [],
   "source": [
    "model=Word2Vec([row for row in df['token']], min_count=10, workers=3, window=5, sg=1)"
   ]
  },
  {
   "cell_type": "code",
   "execution_count": 49,
   "id": "9050c44b",
   "metadata": {},
   "outputs": [],
   "source": [
    "from gensim.models import KeyedVectors\n",
    "south_north_slave=model.wv.most_similar(positive=['wxyz'], negative=['slave'], topn=100)\n",
    "north_south_slave=model.wv.most_similar(positive=['slave'], negative=['wxyz'], topn=100)"
   ]
  },
  {
   "cell_type": "code",
   "execution_count": 50,
   "id": "1d29ed0d",
   "metadata": {},
   "outputs": [
    {
     "data": {
      "text/plain": [
       "[('aad', 0.31551313400268555),\n",
       " ('waa', 0.2840401530265808),\n",
       " ('~', 0.26450347900390625),\n",
       " ('»', 0.24876858294010162),\n",
       " ('«', 0.23075219988822937),\n",
       " ('—', 0.22763964533805847),\n",
       " ('■', 0.2217412143945694),\n",
       " ('af', 0.21829475462436676),\n",
       " ('alave', 0.2170083075761795),\n",
       " ('ne', 0.2132846713066101),\n",
       " ('eat', 0.21217074990272522),\n",
       " ('ef', 0.210989311337471),\n",
       " ('wxyzry', 0.20771364867687225),\n",
       " ('assault', 0.2024698406457901),\n",
       " ('thte', 0.20214338600635529),\n",
       " ('la', 0.2017408013343811),\n",
       " ('oa', 0.19961397349834442),\n",
       " ('blacksmith', 0.19945819675922394),\n",
       " ('shop', 0.19914406538009644),\n",
       " ('wae', 0.19463858008384705),\n",
       " ('te', 0.19305093586444855),\n",
       " ('tat', 0.1925216168165207),\n",
       " ('tea', 0.1915876865386963),\n",
       " ('tba', 0.1884196400642395),\n",
       " ('_', 0.18687118589878082),\n",
       " ('fat', 0.18282391130924225),\n",
       " ('#', 0.18046654760837555),\n",
       " ('oat', 0.17704318463802338),\n",
       " ('k', 0.17596516013145447),\n",
       " ('arraign', 0.1741638034582138),\n",
       " ('tae', 0.17153820395469666),\n",
       " ('asd', 0.17105920612812042),\n",
       " ('carpenter', 0.17058494687080383),\n",
       " ('agree', 0.16993336379528046),\n",
       " ('tot', 0.1698576956987381),\n",
       " ('•', 0.16950610280036926),\n",
       " ('ta', 0.1680745631456375),\n",
       " ('enter', 0.16776645183563232),\n",
       " ('stone', 0.16703291237354279),\n",
       " ('wm', 0.16359643638134003),\n",
       " ('ao', 0.16279907524585724),\n",
       " ('ac', 0.16070854663848877),\n",
       " ('stock', 0.16010281443595886),\n",
       " ('tate', 0.15917550027370453),\n",
       " ('sion', 0.1586170643568039),\n",
       " ('rice', 0.15815463662147522),\n",
       " ('renewal', 0.15720777213573456),\n",
       " ('wool', 0.15674173831939697),\n",
       " ('sugar', 0.15629896521568298),\n",
       " ('brown', 0.15600256621837616),\n",
       " ('company', 0.15504376590251923),\n",
       " ('situate', 0.1544157713651657),\n",
       " ('situ', 0.15427879989147186),\n",
       " ('se', 0.15363912284374237),\n",
       " ('joe', 0.15183737874031067),\n",
       " ('dan', 0.1517154723405838),\n",
       " ('wa', 0.15096983313560486),\n",
       " ('cotton', 0.1509552001953125),\n",
       " ('--', 0.15009047091007233),\n",
       " ('ar', 0.14911408722400665),\n",
       " ('whioh', 0.14727383852005005),\n",
       " ('commit', 0.1466856747865677),\n",
       " ('d.', 0.14660361409187317),\n",
       " ('tinkle', 0.14510971307754517),\n",
       " ('de', 0.14499902725219727),\n",
       " ('stab', 0.14451952278614044),\n",
       " ('wil', 0.1444549560546875),\n",
       " ('b', 0.14400573074817657),\n",
       " ('*', 0.14381714165210724),\n",
       " ('iv', 0.1437128782272339),\n",
       " ('bob', 0.14320781826972961),\n",
       " ('slava', 0.14137539267539978),\n",
       " ('thme', 0.14056751132011414),\n",
       " ('tobacco', 0.14030982553958893),\n",
       " ('cook', 0.13987374305725098),\n",
       " ('ag', 0.1385110765695572),\n",
       " ('g.', 0.13848304748535156),\n",
       " ('shoe', 0.13844957947731018),\n",
       " ('tennessee', 0.13726219534873962),\n",
       " ('%', 0.1365959346294403),\n",
       " ('sad', 0.13632981479167938),\n",
       " ('witb', 0.13552874326705933),\n",
       " ('palfrey', 0.13534963130950928),\n",
       " ('albert', 0.1347842961549759),\n",
       " ('mitte', 0.1338362693786621),\n",
       " ('name', 0.13321790099143982),\n",
       " ('ths', 0.13284681737422943),\n",
       " ('dress', 0.1325669139623642),\n",
       " ('root', 0.13168902695178986),\n",
       " ('consent', 0.13134676218032837),\n",
       " ('br', 0.13102656602859497),\n",
       " ('30', 0.12971563637256622),\n",
       " ('ford', 0.1279902160167694),\n",
       " ('meat', 0.1279829740524292),\n",
       " ('plank', 0.12734204530715942),\n",
       " ('ate', 0.12699057161808014),\n",
       " ('arrette', 0.12686145305633545),\n",
       " ('npon', 0.12625354528427124),\n",
       " ('lbs', 0.12615598738193512),\n",
       " ('major', 0.12570630013942719)]"
      ]
     },
     "execution_count": 50,
     "metadata": {},
     "output_type": "execute_result"
    }
   ],
   "source": [
    "south_north_slave"
   ]
  },
  {
   "cell_type": "code",
   "execution_count": 51,
   "id": "1ddd36c1",
   "metadata": {},
   "outputs": [
    {
     "data": {
      "text/plain": [
       "[('wero', 0.4625748097896576),\n",
       " ('nro', 0.45808741450309753),\n",
       " ('nre', 0.43329063057899475),\n",
       " ('nnd', 0.4209197461605072),\n",
       " ('llio', 0.42042529582977295),\n",
       " ('tho', 0.41263535618782043),\n",
       " ('tlio', 0.40424004197120667),\n",
       " ('aro', 0.3994278609752655),\n",
       " ('theso', 0.3761707544326782),\n",
       " ('und', 0.3727759122848511),\n",
       " ('hnvo', 0.3654331862926483),\n",
       " ('hnve', 0.36238226294517517),\n",
       " ('iho', 0.3557157814502716),\n",
       " (',', 0.35446420311927795),\n",
       " ('thnt', 0.3526664078235626),\n",
       " ('thoso', 0.3517763018608093),\n",
       " ('catcher', 0.3496885597705841),\n",
       " ('wcro', 0.34880173206329346),\n",
       " ('holding', 0.3483321964740753),\n",
       " ('uud', 0.3469831347465515),\n",
       " ('whoso', 0.3468739688396454),\n",
       " ('arc', 0.34497418999671936),\n",
       " ('n', 0.34438881278038025),\n",
       " ('official', 0.34195849299430847),\n",
       " ('hns', 0.34083133935928345),\n",
       " ('sluve', 0.3383333683013916),\n",
       " ('mid', 0.336462140083313),\n",
       " ('ull', 0.33514800667762756),\n",
       " ('nil', 0.3305119276046753),\n",
       " ('nml', 0.32823190093040466),\n",
       " ('.', 0.3265268802642822),\n",
       " ('havo', 0.3252871036529541),\n",
       " ('catch', 0.3237815499305725),\n",
       " ('fugitive', 0.32258227467536926),\n",
       " ('fugitivo', 0.3218318223953247),\n",
       " ('slaveholder', 0.32151466608047485),\n",
       " ('uro', 0.3201461136341095),\n",
       " ('holder', 0.31816819310188293),\n",
       " ('nf', 0.3177982568740845),\n",
       " ('thn', 0.3140423893928528),\n",
       " ('nud', 0.31360042095184326),\n",
       " ('givo', 0.31321752071380615),\n",
       " ('somo', 0.3110440969467163),\n",
       " ('wns', 0.3104867935180664),\n",
       " ('million', 0.31014934182167053),\n",
       " ('slavos', 0.3070451021194458),\n",
       " ('minister', 0.3061619699001312),\n",
       " ('thu', 0.3050802946090698),\n",
       " ('slavcholding', 0.30172619223594666),\n",
       " ('lint', 0.3008694052696228),\n",
       " ('bus', 0.29954221844673157),\n",
       " ('forth', 0.2989821434020996),\n",
       " ('sho', 0.2977123260498047),\n",
       " ('nn', 0.29762181639671326),\n",
       " ('homo', 0.2973502278327942),\n",
       " ('ind', 0.2971523106098175),\n",
       " ('hunter', 0.2970369756221771),\n",
       " ('dealer', 0.29397690296173096),\n",
       " ('bondage', 0.2934738099575043),\n",
       " ('destitute', 0.2903136610984802),\n",
       " ('luw', 0.2898777723312378),\n",
       " ('fugi', 0.28973349928855896),\n",
       " ('clergy', 0.28961941599845886),\n",
       " ('!', 0.2891975939273834),\n",
       " ('ho', 0.2874754071235657),\n",
       " ('truo', 0.2869812846183777),\n",
       " ('hold', 0.2849121391773224),\n",
       " ('thorn', 0.28473272919654846),\n",
       " ('llm', 0.2847001552581787),\n",
       " ('hind', 0.2841683030128479),\n",
       " ('lho', 0.28383153676986694),\n",
       " ('hunt', 0.2823558747768402),\n",
       " ('hy', 0.2809752821922302),\n",
       " ('thoir', 0.28031933307647705),\n",
       " ('ful', 0.2802106738090515),\n",
       " ('hud', 0.27886125445365906),\n",
       " ('tlieir', 0.27855509519577026),\n",
       " ('commissioner', 0.2780472934246063),\n",
       " ('onesimus', 0.27700328826904297),\n",
       " ('tyrant', 0.27668875455856323),\n",
       " ('hunting', 0.27632617950439453),\n",
       " ('sumo', 0.27567344903945923),\n",
       " ('liir', 0.2750532925128937),\n",
       " ('tender', 0.2750491797924042),\n",
       " ('through', 0.2749253809452057),\n",
       " ('moro', 0.27480316162109375),\n",
       " ('hor', 0.27445554733276367),\n",
       " ('j', 0.2743270695209503),\n",
       " ('chattel', 0.2736145555973053),\n",
       " ('mndo', 0.2732931673526764),\n",
       " ('canada', 0.27252283692359924),\n",
       " ('lor', 0.2724952697753906),\n",
       " ('hut', 0.27117177844047546),\n",
       " ('ill', 0.270918607711792),\n",
       " ('nono', 0.269704669713974),\n",
       " ('liko', 0.2697007358074188),\n",
       " ('com-', 0.26820001006126404),\n",
       " ('threo', 0.26780393719673157),\n",
       " ('teaching', 0.26775047183036804),\n",
       " ('1', 0.2677268981933594)]"
      ]
     },
     "execution_count": 51,
     "metadata": {},
     "output_type": "execute_result"
    }
   ],
   "source": [
    "north_south_slave"
   ]
  },
  {
   "cell_type": "code",
   "execution_count": 14,
   "id": "9c7b0701",
   "metadata": {},
   "outputs": [],
   "source": [
    "dataframe=pd.DataFrame(slave_servant, columns=('token', 'similarity'))\n",
    "outname='slave_servant_'+folder+'_min10.csv'\n",
    "outdir='../word2vec-dedupe'\n",
    "if not os.path.exists(outdir):\n",
    "    os.mkdir(outdir)\n",
    "fullname=os.path.join(outdir, outname)\n",
    "dataframe.to_csv(fullname)"
   ]
  },
  {
   "cell_type": "code",
   "execution_count": 15,
   "id": "ae656729",
   "metadata": {},
   "outputs": [],
   "source": [
    "dataframe=pd.DataFrame(servant_slave, columns=('token', 'similarity'))\n",
    "outname='servant_slave_'+folder+'_min10.csv'\n",
    "outdir='../word2vec-dedupe'\n",
    "if not os.path.exists(outdir):\n",
    "    os.mkdir(outdir)\n",
    "fullname=os.path.join(outdir, outname)\n",
    "dataframe.to_csv(fullname)"
   ]
  }
 ],
 "metadata": {
  "kernelspec": {
   "display_name": "Python 3.10.6 ('viraltext')",
   "language": "python",
   "name": "python3"
  },
  "language_info": {
   "codemirror_mode": {
    "name": "ipython",
    "version": 3
   },
   "file_extension": ".py",
   "mimetype": "text/x-python",
   "name": "python",
   "nbconvert_exporter": "python",
   "pygments_lexer": "ipython3",
   "version": "3.10.6"
  },
  "vscode": {
   "interpreter": {
    "hash": "a8635dbfdd54611560550ce9d7e88cfa23020ca3229bc7976de59d1d3a660481"
   }
  }
 },
 "nbformat": 4,
 "nbformat_minor": 5
}
