{
 "cells": [
  {
   "cell_type": "code",
   "execution_count": 1,
   "id": "ef3d0b67-6549-4566-8151-48ca80a05d28",
   "metadata": {},
   "outputs": [],
   "source": [
    "import requests\n",
    "from datetime import timedelta\n",
    "from datetime import datetime\n",
    "import pandas as pd\n",
    "import urllib.request\n",
    "import json"
   ]
  },
  {
   "cell_type": "code",
   "execution_count": 9,
   "id": "27522620-9c95-4586-9784-f2009f62ddd2",
   "metadata": {},
   "outputs": [
    {
     "data": {
      "text/plain": [
       "(3861, 10)"
      ]
     },
     "execution_count": 9,
     "metadata": {},
     "output_type": "execute_result"
    }
   ],
   "source": [
    "pd.read_csv('newspapers.txt', sep='|').shape"
   ]
  },
  {
   "cell_type": "code",
   "execution_count": 3,
   "id": "935f1eb4-926a-4f45-b181-417b57949308",
   "metadata": {},
   "outputs": [],
   "source": [
    "def chronicling(arg1, arg2, arg3, arg4):\n",
    "    '''\n",
    "    arg1=\"sn84024738\"\n",
    "    arg2=YYYY-MM-DD\n",
    "    arg3=YYYY-MM-DD\n",
    "    arg4=\"dispatch\"\n",
    "    '''\n",
    "    daterange=pd.date_range(arg2, arg3)\n",
    "    for day in daterange:\n",
    "        try:\n",
    "            r=requests.get('https://chroniclingamerica.loc.gov/lccn/'+arg1+'/'+day.strftime('%Y-%m-%d') + '/' + 'ed-1.json')\n",
    "            for i in r.json()['pages']:\n",
    "                with open('/Users/2010y/chronicling_america/data/' + arg4 + '/' + day.strftime('%Y-%m-%d')+ '-' + i['url'][-10:].rstrip('.json') +  '.txt', 'w+') as text:\n",
    "                    with urllib.request.urlopen(i['url'].rstrip('.json')+'/ocr.txt') as f:\n",
    "                        text.write(f.read().decode('utf-8'))\n",
    "                print(day.strftime('%Y-%m-%d'))\n",
    "        except:\n",
    "            continue\n",
    "            # print(day.strftime('%Y-%m-%d')+' does not exist')"
   ]
  },
  {
   "cell_type": "code",
   "execution_count": null,
   "id": "eb6be966-4a64-4e19-9e53-16479d461e96",
   "metadata": {},
   "outputs": [],
   "source": [
    "%%timeit\n",
    "chronicling('sn85033395', '1850-01-01', '1865-09-10', 'f')"
   ]
  }
 ],
 "metadata": {
  "kernelspec": {
   "display_name": "Python 3 (ipykernel)",
   "language": "python",
   "name": "python3"
  },
  "language_info": {
   "codemirror_mode": {
    "name": "ipython",
    "version": 3
   },
   "file_extension": ".py",
   "mimetype": "text/x-python",
   "name": "python",
   "nbconvert_exporter": "python",
   "pygments_lexer": "ipython3",
   "version": "3.10.4"
  }
 },
 "nbformat": 4,
 "nbformat_minor": 5
}
